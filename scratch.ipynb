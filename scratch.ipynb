{
 "cells": [
  {
   "cell_type": "code",
   "execution_count": 18,
   "metadata": {},
   "outputs": [],
   "source": [
    "import matplotlib.pyplot as plt\n",
    "import matplotlib.image as mpimg\n",
    "import numpy as np\n",
    "import cv2\n",
    "import  PIL\n",
    "from PIL import Image\n",
    "import os\n",
    "%matplotlib inline"
   ]
  },
  {
   "cell_type": "code",
   "execution_count": 31,
   "metadata": {},
   "outputs": [],
   "source": [
    "VEHICLES = 10 # Data encoding in the segmented image\n",
    "ROADS = 7\n",
    "ROAD_LINES = 6\n",
    "\n",
    "def isolate_cars(filename,i):\n",
    "    img = Image.open(filename)\n",
    "\n",
    "    img_np = np.array(img)\n",
    "\n",
    "    img_np_R = img_np[:,:,0] # Pull out R channel\n",
    "\n",
    "    img_np_R[img_np_R == VEHICLES] = 255    \n",
    "\n",
    "    img_np_R[img_np_R != 255] = 0\n",
    "    \n",
    "    h,w = img_np_R.shape\n",
    "    img_np_R[int(.82*h):h, :] = 0\n",
    "\n",
    "    new_img = np.stack((img_np_R,img_np_R,img_np_R), axis=-1)\n",
    "    \n",
    "    image = Image.fromarray(new_img, 'RGB')\n",
    "    dest = 'mask/'\n",
    "    image.save(dest+str(i)+'.png')\n",
    "    return image"
   ]
  },
  {
   "cell_type": "code",
   "execution_count": 32,
   "metadata": {},
   "outputs": [],
   "source": [
    "i=0\n",
    "for subdir, dirs, files in os.walk('lyft_training_data/Train/CameraSeg'):\n",
    "    for file in files:\n",
    "        isolate_cars(os.path.join(subdir, file),i)\n",
    "        i=i+1"
   ]
  },
  {
   "cell_type": "code",
   "execution_count": 36,
   "metadata": {},
   "outputs": [
    {
     "data": {
      "image/png": "[encoded data removed]",
      "text/plain": [
       "<PIL.PngImagePlugin.PngImageFile image mode=RGB size=800x600 at 0x16B44D0DE48>"
      ]
     },
     "execution_count": 36,
     "metadata": {},
     "output_type": "execute_result"
    }
   ],
   "source": [
    "image=Image.open('mask/559.png')\n",
    "image\n"
   ]
  },
  {
   "cell_type": "code",
   "execution_count": null,
   "metadata": {},
   "outputs": [],
   "source": []
  }
 ],
 "metadata": {
  "anaconda-cloud": {},
  "kernelspec": {
   "display_name": "Python [default]",
   "language": "python",
   "name": "python3"
  },
  "language_info": {
   "codemirror_mode": {
    "name": "ipython",
    "version": 3
   },
   "file_extension": ".py",
   "mimetype": "text/x-python",
   "name": "python",
   "nbconvert_exporter": "python",
   "pygments_lexer": "ipython3",
   "version": "3.5.2"
  }
 },
 "nbformat": 4,
 "nbformat_minor": 2
}
