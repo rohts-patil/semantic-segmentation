{
 "cells": [
  {
   "cell_type": "code",
   "execution_count": 1,
   "metadata": {},
   "outputs": [],
   "source": [
    "import matplotlib.pyplot as plt\n",
    "import matplotlib.image as mpimg\n",
    "import numpy as np\n",
    "import cv2\n",
    "import  PIL\n",
    "from PIL import Image\n",
    "import os\n",
    "%matplotlib inline"
   ]
  },
  {
   "cell_type": "code",
   "execution_count": 42,
   "metadata": {},
   "outputs": [],
   "source": [
    "VEHICLES = 10 # Data encoding in the segmented image\n",
    "ROADS = 7\n",
    "ROAD_LINES = 6\n",
    "\n",
    "def isolate_cars(filename,i):\n",
    "    img = Image.open(filename)\n",
    "\n",
    "    img_np = np.array(img)\n",
    "\n",
    "    img_np_R = img_np[:,:,0] # Pull out R channel\n",
    "\n",
    "    img_np_R[img_np_R == VEHICLES] = 255    \n",
    "\n",
    "    img_np_R[img_np_R != 255] = 0\n",
    "    \n",
    "    h,w = img_np_R.shape\n",
    "    img_np_R[int(.82*h):h, :] = 0\n",
    "\n",
    "    new_img = np.stack((img_np_R,img_np_R,img_np_R), axis=-1)\n",
    "    \n",
    "    image = Image.fromarray(new_img, 'RGB')\n",
    "    dest = 'mask/'\n",
    "    image.save(dest+str(i)+'.png')\n",
    "    return image"
   ]
  },
  {
   "cell_type": "code",
   "execution_count": 32,
   "metadata": {},
   "outputs": [],
   "source": [
    "i=0\n",
    "for subdir, dirs, files in os.walk('../lyft_training_data/Train/CameraSeg'):\n",
    "    for file in files:\n",
    "        isolate_cars(os.path.join(subdir, file),i)\n",
    "        i=i+1"
   ]
  },
  {
   "cell_type": "code",
   "execution_count": 4,
   "metadata": {},
   "outputs": [
    {
     "data": {
      "image/png": "[encoded data removed]",
      "text/plain": [
       "<PIL.PngImagePlugin.PngImageFile image mode=RGB size=800x600 at 0x1EA798F41D0>"
      ]
     },
     "execution_count": 4,
     "metadata": {},
     "output_type": "execute_result"
    }
   ],
   "source": [
    "image=Image.open('../mask/559.png')\n",
    "image\n"
   ]
  },
  {
   "cell_type": "code",
   "execution_count": 72,
   "metadata": {},
   "outputs": [],
   "source": [
    "def preprocess_labels(label_image,obj):\n",
    "    # Identify lane marking pixels (label is 6)\n",
    "    lane_marking_pixels = (label_image[:,:,0] == ROAD_LINES).nonzero()\n",
    "    road_pixels = (label_image[:,:,0] == ROADS).nonzero()\n",
    "    # Set lane marking pixels to road (label is 7)\n",
    "    labels_new = np.zeros_like(label_image)\n",
    "    #labels_new = np.copy(label_image)\n",
    "    labels_new[lane_marking_pixels] = ROADS\n",
    "    if obj=='road' or obj=='both':\n",
    "        labels_new[road_pixels] = ROADS\n",
    " \n",
    "    # Identify all vehicle pixels\n",
    "    vehicle_pixels = (label_image[:,:,0] == VEHICLES).nonzero()\n",
    "    if obj == 'car' or obj=='both':\n",
    "        labels_new[vehicle_pixels] = VEHICLES\n",
    "    # Isolate vehicle pixels associated with the hood (y-position > 496)\n",
    "    hood_indices = (vehicle_pixels[0] >= 496).nonzero()[0]\n",
    "    hood_pixels = (vehicle_pixels[0][hood_indices], \\\n",
    "                   vehicle_pixels[1][hood_indices])\n",
    "    # Set hood pixel labels to 0\n",
    "    labels_new[hood_pixels] = 0\n",
    "    # Return the preprocessed label image \n",
    "    return labels_new"
   ]
  },
  {
   "cell_type": "code",
   "execution_count": 73,
   "metadata": {},
   "outputs": [],
   "source": [
    "image = cv2.imread(\"../lyft_training_data/Train/CameraSeg/900.png\")\n",
    "\n",
    "#image = mpimg.imread(\"../lyft_training_data/Train/CameraSeg/0.png\")\n",
    "image1= cv2.cvtColor(image, cv2.COLOR_BGR2RGB)"
   ]
  },
  {
   "cell_type": "code",
   "execution_count": 74,
   "metadata": {},
   "outputs": [
    {
     "data": {
      "text/plain": [
       "[]"
      ]
     },
     "execution_count": 74,
     "metadata": {},
     "output_type": "execute_result"
    },
    {
     "data": {
      "image/png": "[encoded data removed]",
      "text/plain": [
       "<matplotlib.figure.Figure at 0x1ea000f8710>"
      ]
     },
     "metadata": {},
     "output_type": "display_data"
    }
   ],
   "source": [
    "plt.imshow(image1[:,:,0])\n",
    "plt.plot()"
   ]
  },
  {
   "cell_type": "code",
   "execution_count": 78,
   "metadata": {},
   "outputs": [
    {
     "data": {
      "text/plain": [
       "[]"
      ]
     },
     "execution_count": 78,
     "metadata": {},
     "output_type": "execute_result"
    },
    {
     "data": {
      "image/png": "[encoded data removed]",
      "text/plain": [
       "<matplotlib.figure.Figure at 0x1ea001a55f8>"
      ]
     },
     "metadata": {},
     "output_type": "display_data"
    }
   ],
   "source": [
    "pre = preprocess_labels(image1,'car')\n",
    "plt.imshow(pre[:,:,0])\n",
    "plt.plot()"
   ]
  },
  {
   "cell_type": "code",
   "execution_count": null,
   "metadata": {},
   "outputs": [],
   "source": []
  },
  {
   "cell_type": "code",
   "execution_count": null,
   "metadata": {},
   "outputs": [],
   "source": []
  }
 ],
 "metadata": {
  "anaconda-cloud": {},
  "kernelspec": {
   "display_name": "Python [default]",
   "language": "python",
   "name": "python3"
  },
  "language_info": {
   "codemirror_mode": {
    "name": "ipython",
    "version": 3
   },
   "file_extension": ".py",
   "mimetype": "text/x-python",
   "name": "python",
   "nbconvert_exporter": "python",
   "pygments_lexer": "ipython3",
   "version": "3.5.2"
  }
 },
 "nbformat": 4,
 "nbformat_minor": 2
}
